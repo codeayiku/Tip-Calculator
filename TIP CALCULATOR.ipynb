{
 "cells": [
  {
   "cell_type": "code",
   "execution_count": 1,
   "id": "473f0968",
   "metadata": {},
   "outputs": [
    {
     "name": "stdout",
     "output_type": "stream",
     "text": [
      "Enter the charge for the food: 75\n",
      "Tip amount: 13.5\n",
      "Sales tax amount: 5.250000000000001\n",
      "Total amount: 93.75\n"
     ]
    }
   ],
   "source": [
    "# Prompt the user to enter the charge for the food\n",
    "food_charge = float(input(\"Enter the charge for the food: \"))\n",
    "\n",
    "# Calculate the amounts of an 18 percent tip and 7 percent sales tax\n",
    "tip_amount = food_charge * 0.18\n",
    "sales_tax_amount = food_charge * 0.07\n",
    "\n",
    "# Display each of these amounts\n",
    "print(\"Tip amount:\", tip_amount)\n",
    "print(\"Sales tax amount:\", sales_tax_amount)\n",
    "\n",
    "# Add everything together and display the charge of the food plus tip and sales tax\n",
    "total_amount = food_charge + tip_amount + sales_tax_amount\n",
    "print(\"Total amount:\", total_amount)"
   ]
  },
  {
   "cell_type": "code",
   "execution_count": null,
   "id": "4981575b",
   "metadata": {},
   "outputs": [],
   "source": []
  }
 ],
 "metadata": {
  "kernelspec": {
   "display_name": "Python 3 (ipykernel)",
   "language": "python",
   "name": "python3"
  },
  "language_info": {
   "codemirror_mode": {
    "name": "ipython",
    "version": 3
   },
   "file_extension": ".py",
   "mimetype": "text/x-python",
   "name": "python",
   "nbconvert_exporter": "python",
   "pygments_lexer": "ipython3",
   "version": "3.11.5"
  }
 },
 "nbformat": 4,
 "nbformat_minor": 5
}
